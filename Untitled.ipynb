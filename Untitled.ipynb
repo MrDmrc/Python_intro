{
 "cells": [
  {
   "cell_type": "code",
   "execution_count": 18,
   "metadata": {
    "scrolled": true
   },
   "outputs": [
    {
     "name": "stdout",
     "output_type": "stream",
     "text": [
      "yaşınız:21\n",
      "ehliyet alabilir\n"
     ]
    }
   ],
   "source": [
    "yas=int(input(\"yaşınız:\")) \n",
    "if yas>=18:\n",
    "    print(\"ehliyet alabilir\")\n",
    "else:\n",
    "    print(\"ehliyet alamaz\")"
   ]
  },
  {
   "cell_type": "code",
   "execution_count": 21,
   "metadata": {},
   "outputs": [
    {
     "name": "stdout",
     "output_type": "stream",
     "text": [
      "sayı giriniz6\n",
      "sayı çift\n"
     ]
    }
   ],
   "source": [
    "sayı=int(input(\"sayı giriniz\"))\n",
    "kalan=sayı%2\n",
    "if kalan ==0:\n",
    "   print(\"sayı çift\")\n",
    "else:\n",
    "    print(\"sayı tek\")"
   ]
  },
  {
   "cell_type": "code",
   "execution_count": 35,
   "metadata": {},
   "outputs": [
    {
     "name": "stdout",
     "output_type": "stream",
     "text": [
      "hafta için için 1 , haftasonu için 21\n",
      "ogrenci sayısı giriniz15\n",
      "toplam: 320\n"
     ]
    }
   ],
   "source": [
    "gun=int(input(\"hafta için için 1 , haftasonu için 2\"))\n",
    "ogrenci=int(input(\"ogrenci sayısı giriniz\"))\n",
    "servis=200\n",
    "if ogrenci >10:\n",
    "    if gun == 1:\n",
    "        biletparası=8\n",
    "    else:\n",
    "        biletparası=12.5\n",
    "else:\n",
    "    if gun == 1:\n",
    "        biletparası=10\n",
    "    else:\n",
    "        biletparası=15    \n",
    "toplam=(ogrenci*biletparası)+servis\n",
    "print(\"toplam:\",toplam)"
   ]
  },
  {
   "cell_type": "code",
   "execution_count": 38,
   "metadata": {},
   "outputs": [
    {
     "name": "stdout",
     "output_type": "stream",
     "text": [
      "cinsiyeti [E/K]e\n",
      "yaşı12\n",
      "askerlik düşmez\n"
     ]
    }
   ],
   "source": [
    "cinsiyet=input(\"cinsiyeti [E/K]\")\n",
    "yas=int(input(\"yaşı\"))\n",
    "if cinsiyet==\"K\" or \"k\":\n",
    "    print(\"askerlik düşmez\")\n",
    "elif(cinsiyet==(\"E\" or \"e\") and yas >=18):\n",
    "    print(\"askerlik yapması lazım\")\n",
    "elif(cinsiyet==(\"E\" or \"e\") and yas<18):\n",
    "    print(\"daha değil\")\n",
    "       "
   ]
  },
  {
   "cell_type": "code",
   "execution_count": 4,
   "metadata": {},
   "outputs": [
    {
     "name": "stdout",
     "output_type": "stream",
     "text": [
      "1-100 arası girin3\n",
      "tutulan sayı daha büyük\n",
      "1-100 arası girin0\n",
      "tutulan sayı daha büyük\n",
      "1-100 arası girin5\n",
      "tutulan sayı daha büyük\n",
      "1-100 arası girin100\n",
      "tutulan sayı daha küçük\n",
      "1-100 arası girin50\n",
      "tutulan sayı daha küçük\n",
      "1-100 arası girin25\n",
      "tutulan sayı daha küçük\n",
      "1-100 arası girin15\n",
      "bravo\n"
     ]
    }
   ],
   "source": [
    "import random\n",
    "pcsayisi=random.randint(1,100)\n",
    "tahminim=0\n",
    "while(tahminim!=pcsayisi):\n",
    "    tahminim=int(input(\"1-100 arası girin\"))\n",
    "    if(tahminim>pcsayisi):\n",
    "        print(\"tutulan sayı daha küçük\")\n",
    "    if(tahminim<pcsayisi):   \n",
    "        print(\"tutulan sayı daha büyük\")\n",
    "        \n",
    "print(\"bravo\")        "
   ]
  },
  {
   "cell_type": "code",
   "execution_count": 9,
   "metadata": {},
   "outputs": [
    {
     "name": "stdout",
     "output_type": "stream",
     "text": [
      "------------------------------\n",
      "(1) topla \n",
      " (2) çıkar \n",
      " (3) çarp \n",
      " (4) böl\n",
      "(0) çık\n",
      "------------------------------\n",
      "yapmak istediğiniz işlemi seçin3\n",
      "birinci sayı = 1\n",
      "ikinci sayı = 2\n",
      "1 * 2 = 2\n",
      "programdan çılıkdı\n",
      "------------------------------\n",
      "(1) topla \n",
      " (2) çıkar \n",
      " (3) çarp \n",
      " (4) böl\n",
      "(0) çık\n",
      "------------------------------\n",
      "yapmak istediğiniz işlemi seçin0\n"
     ]
    }
   ],
   "source": [
    "while(True):\n",
    "    print(\"-\"*30)\n",
    "    print(\"(1) topla \\n (2) çıkar \\n (3) çarp \\n (4) böl\")\n",
    "    print(\"(0) çık\")\n",
    "    print(\"-\"*30)\n",
    "    \n",
    "    islem=int(input(\"yapmak istediğiniz işlemi seçin\"))\n",
    "    if islem==0:\n",
    "        break\n",
    "    if islem==1: \n",
    "        sayi1=int(input(\"birinci sayı = \" ))\n",
    "        sayi2=int(input(\"ikinci sayı = \" ))\n",
    "        print(sayi1, \"+\", sayi2, \"=\" , sayi1+sayi2)\n",
    "    elif islem==2:\n",
    "        sayi1=int(input(\"birinci sayı = \" ))\n",
    "        sayi2=int(input(\"ikinci sayı = \" ))\n",
    "        print(sayi1, \"-\", sayi2, \"=\" , sayi1-sayi2)\n",
    "    elif islem==3:\n",
    "        sayi1=int(input(\"birinci sayı = \"))\n",
    "        sayi2=int(input(\"ikinci sayı = \" ))\n",
    "        print(sayi1, \"*\", sayi2, \"=\" , sayi1*sayi2)\n",
    "    elif islem==4:\n",
    "        sayi1=int(input(\"birinci sayı = \"))\n",
    "        sayi2=int(input(\"ikinci sayı = \" ))\n",
    "        print(sayi1, \"/\", sayi2, \"=\" , sayi1/sayi2)\n",
    "\n",
    "    print(\"programdan çılıkdı\")    "
   ]
  },
  {
   "cell_type": "code",
   "execution_count": 1,
   "metadata": {},
   "outputs": [],
   "source": [
    "import turtle\n",
    "turtle.bgcolor(\"red\")\n",
    "turtle.color(\"white\")\n",
    "for x in range(4):\n",
    "    turtle.write(\"x=\"+str(x))\n",
    "    turtle.forward(100)\n",
    "    turtle.left(90)"
   ]
  },
  {
   "cell_type": "code",
   "execution_count": 3,
   "metadata": {},
   "outputs": [],
   "source": [
    "import turtle\n",
    "turtle.pensize(5)\n",
    "turtle.bgcolor(\"red\")\n",
    "turtle.pencolor(\"white\")\n",
    "for x in range(360):\n",
    "    turtle.forward(1)\n",
    "    turtle.left(1)"
   ]
  },
  {
   "cell_type": "code",
   "execution_count": 1,
   "metadata": {},
   "outputs": [],
   "source": [
    "import turtle\n",
    "turtle.pensize(3)\n",
    "turtle.bgcolor(\"red\")\n",
    "turtle.pencolor(\"white\")\n",
    "for x in range(36):\n",
    "    turtle.home()\n",
    "    turtle.left(x*10)\n",
    "    turtle.circle(100)"
   ]
  },
  {
   "cell_type": "code",
   "execution_count": 2,
   "metadata": {},
   "outputs": [
    {
     "ename": "Terminator",
     "evalue": "",
     "output_type": "error",
     "traceback": [
      "\u001b[1;31m---------------------------------------------------------------------------\u001b[0m",
      "\u001b[1;31mTerminator\u001b[0m                                Traceback (most recent call last)",
      "\u001b[1;32m<ipython-input-2-c0ed787f451e>\u001b[0m in \u001b[0;36m<module>\u001b[1;34m\u001b[0m\n\u001b[0;32m      5\u001b[0m \u001b[1;32mfor\u001b[0m \u001b[0mx\u001b[0m \u001b[1;32min\u001b[0m \u001b[0mrange\u001b[0m\u001b[1;33m(\u001b[0m\u001b[1;36m200\u001b[0m\u001b[1;33m)\u001b[0m\u001b[1;33m:\u001b[0m\u001b[1;33m\u001b[0m\u001b[1;33m\u001b[0m\u001b[0m\n\u001b[0;32m      6\u001b[0m     \u001b[0mturtle\u001b[0m\u001b[1;33m.\u001b[0m\u001b[0mfd\u001b[0m\u001b[1;33m(\u001b[0m\u001b[0mx\u001b[0m\u001b[1;33m)\u001b[0m\u001b[1;33m\u001b[0m\u001b[1;33m\u001b[0m\u001b[0m\n\u001b[1;32m----> 7\u001b[1;33m     \u001b[0mturtle\u001b[0m\u001b[1;33m.\u001b[0m\u001b[0mleft\u001b[0m\u001b[1;33m(\u001b[0m\u001b[1;36m91\u001b[0m\u001b[1;33m)\u001b[0m\u001b[1;33m\u001b[0m\u001b[1;33m\u001b[0m\u001b[0m\n\u001b[0m\u001b[0;32m      8\u001b[0m \u001b[1;33m\u001b[0m\u001b[0m\n",
      "\u001b[1;32mC:\\anaconda\\lib\\turtle.py\u001b[0m in \u001b[0;36mleft\u001b[1;34m(angle)\u001b[0m\n",
      "\u001b[1;32mC:\\anaconda\\lib\\turtle.py\u001b[0m in \u001b[0;36mleft\u001b[1;34m(self, angle)\u001b[0m\n\u001b[0;32m   1697\u001b[0m         \u001b[1;36m67.0\u001b[0m\u001b[1;33m\u001b[0m\u001b[1;33m\u001b[0m\u001b[0m\n\u001b[0;32m   1698\u001b[0m         \"\"\"\n\u001b[1;32m-> 1699\u001b[1;33m         \u001b[0mself\u001b[0m\u001b[1;33m.\u001b[0m\u001b[0m_rotate\u001b[0m\u001b[1;33m(\u001b[0m\u001b[0mangle\u001b[0m\u001b[1;33m)\u001b[0m\u001b[1;33m\u001b[0m\u001b[1;33m\u001b[0m\u001b[0m\n\u001b[0m\u001b[0;32m   1700\u001b[0m \u001b[1;33m\u001b[0m\u001b[0m\n\u001b[0;32m   1701\u001b[0m     \u001b[1;32mdef\u001b[0m \u001b[0mpos\u001b[0m\u001b[1;33m(\u001b[0m\u001b[0mself\u001b[0m\u001b[1;33m)\u001b[0m\u001b[1;33m:\u001b[0m\u001b[1;33m\u001b[0m\u001b[1;33m\u001b[0m\u001b[0m\n",
      "\u001b[1;32mC:\\anaconda\\lib\\turtle.py\u001b[0m in \u001b[0;36m_rotate\u001b[1;34m(self, angle)\u001b[0m\n\u001b[0;32m   3274\u001b[0m             \u001b[1;32mfor\u001b[0m \u001b[0m_\u001b[0m \u001b[1;32min\u001b[0m \u001b[0mrange\u001b[0m\u001b[1;33m(\u001b[0m\u001b[0msteps\u001b[0m\u001b[1;33m)\u001b[0m\u001b[1;33m:\u001b[0m\u001b[1;33m\u001b[0m\u001b[1;33m\u001b[0m\u001b[0m\n\u001b[0;32m   3275\u001b[0m                 \u001b[0mself\u001b[0m\u001b[1;33m.\u001b[0m\u001b[0m_orient\u001b[0m \u001b[1;33m=\u001b[0m \u001b[0mself\u001b[0m\u001b[1;33m.\u001b[0m\u001b[0m_orient\u001b[0m\u001b[1;33m.\u001b[0m\u001b[0mrotate\u001b[0m\u001b[1;33m(\u001b[0m\u001b[0mdelta\u001b[0m\u001b[1;33m)\u001b[0m\u001b[1;33m\u001b[0m\u001b[1;33m\u001b[0m\u001b[0m\n\u001b[1;32m-> 3276\u001b[1;33m                 \u001b[0mself\u001b[0m\u001b[1;33m.\u001b[0m\u001b[0m_update\u001b[0m\u001b[1;33m(\u001b[0m\u001b[1;33m)\u001b[0m\u001b[1;33m\u001b[0m\u001b[1;33m\u001b[0m\u001b[0m\n\u001b[0m\u001b[0;32m   3277\u001b[0m         \u001b[0mself\u001b[0m\u001b[1;33m.\u001b[0m\u001b[0m_orient\u001b[0m \u001b[1;33m=\u001b[0m \u001b[0mneworient\u001b[0m\u001b[1;33m\u001b[0m\u001b[1;33m\u001b[0m\u001b[0m\n\u001b[0;32m   3278\u001b[0m         \u001b[0mself\u001b[0m\u001b[1;33m.\u001b[0m\u001b[0m_update\u001b[0m\u001b[1;33m(\u001b[0m\u001b[1;33m)\u001b[0m\u001b[1;33m\u001b[0m\u001b[1;33m\u001b[0m\u001b[0m\n",
      "\u001b[1;32mC:\\anaconda\\lib\\turtle.py\u001b[0m in \u001b[0;36m_update\u001b[1;34m(self)\u001b[0m\n\u001b[0;32m   2658\u001b[0m             \u001b[1;32mreturn\u001b[0m\u001b[1;33m\u001b[0m\u001b[1;33m\u001b[0m\u001b[0m\n\u001b[0;32m   2659\u001b[0m         \u001b[1;32melif\u001b[0m \u001b[0mscreen\u001b[0m\u001b[1;33m.\u001b[0m\u001b[0m_tracing\u001b[0m \u001b[1;33m==\u001b[0m \u001b[1;36m1\u001b[0m\u001b[1;33m:\u001b[0m\u001b[1;33m\u001b[0m\u001b[1;33m\u001b[0m\u001b[0m\n\u001b[1;32m-> 2660\u001b[1;33m             \u001b[0mself\u001b[0m\u001b[1;33m.\u001b[0m\u001b[0m_update_data\u001b[0m\u001b[1;33m(\u001b[0m\u001b[1;33m)\u001b[0m\u001b[1;33m\u001b[0m\u001b[1;33m\u001b[0m\u001b[0m\n\u001b[0m\u001b[0;32m   2661\u001b[0m             \u001b[0mself\u001b[0m\u001b[1;33m.\u001b[0m\u001b[0m_drawturtle\u001b[0m\u001b[1;33m(\u001b[0m\u001b[1;33m)\u001b[0m\u001b[1;33m\u001b[0m\u001b[1;33m\u001b[0m\u001b[0m\n\u001b[0;32m   2662\u001b[0m             \u001b[0mscreen\u001b[0m\u001b[1;33m.\u001b[0m\u001b[0m_update\u001b[0m\u001b[1;33m(\u001b[0m\u001b[1;33m)\u001b[0m                  \u001b[1;31m# TurtleScreenBase\u001b[0m\u001b[1;33m\u001b[0m\u001b[1;33m\u001b[0m\u001b[0m\n",
      "\u001b[1;32mC:\\anaconda\\lib\\turtle.py\u001b[0m in \u001b[0;36m_update_data\u001b[1;34m(self)\u001b[0m\n\u001b[0;32m   2644\u001b[0m \u001b[1;33m\u001b[0m\u001b[0m\n\u001b[0;32m   2645\u001b[0m     \u001b[1;32mdef\u001b[0m \u001b[0m_update_data\u001b[0m\u001b[1;33m(\u001b[0m\u001b[0mself\u001b[0m\u001b[1;33m)\u001b[0m\u001b[1;33m:\u001b[0m\u001b[1;33m\u001b[0m\u001b[1;33m\u001b[0m\u001b[0m\n\u001b[1;32m-> 2646\u001b[1;33m         \u001b[0mself\u001b[0m\u001b[1;33m.\u001b[0m\u001b[0mscreen\u001b[0m\u001b[1;33m.\u001b[0m\u001b[0m_incrementudc\u001b[0m\u001b[1;33m(\u001b[0m\u001b[1;33m)\u001b[0m\u001b[1;33m\u001b[0m\u001b[1;33m\u001b[0m\u001b[0m\n\u001b[0m\u001b[0;32m   2647\u001b[0m         \u001b[1;32mif\u001b[0m \u001b[0mself\u001b[0m\u001b[1;33m.\u001b[0m\u001b[0mscreen\u001b[0m\u001b[1;33m.\u001b[0m\u001b[0m_updatecounter\u001b[0m \u001b[1;33m!=\u001b[0m \u001b[1;36m0\u001b[0m\u001b[1;33m:\u001b[0m\u001b[1;33m\u001b[0m\u001b[1;33m\u001b[0m\u001b[0m\n\u001b[0;32m   2648\u001b[0m             \u001b[1;32mreturn\u001b[0m\u001b[1;33m\u001b[0m\u001b[1;33m\u001b[0m\u001b[0m\n",
      "\u001b[1;32mC:\\anaconda\\lib\\turtle.py\u001b[0m in \u001b[0;36m_incrementudc\u001b[1;34m(self)\u001b[0m\n\u001b[0;32m   1290\u001b[0m         \u001b[1;32mif\u001b[0m \u001b[1;32mnot\u001b[0m \u001b[0mTurtleScreen\u001b[0m\u001b[1;33m.\u001b[0m\u001b[0m_RUNNING\u001b[0m\u001b[1;33m:\u001b[0m\u001b[1;33m\u001b[0m\u001b[1;33m\u001b[0m\u001b[0m\n\u001b[0;32m   1291\u001b[0m             \u001b[0mTurtleScreen\u001b[0m\u001b[1;33m.\u001b[0m\u001b[0m_RUNNING\u001b[0m \u001b[1;33m=\u001b[0m \u001b[1;32mTrue\u001b[0m\u001b[1;33m\u001b[0m\u001b[1;33m\u001b[0m\u001b[0m\n\u001b[1;32m-> 1292\u001b[1;33m             \u001b[1;32mraise\u001b[0m \u001b[0mTerminator\u001b[0m\u001b[1;33m\u001b[0m\u001b[1;33m\u001b[0m\u001b[0m\n\u001b[0m\u001b[0;32m   1293\u001b[0m         \u001b[1;32mif\u001b[0m \u001b[0mself\u001b[0m\u001b[1;33m.\u001b[0m\u001b[0m_tracing\u001b[0m \u001b[1;33m>\u001b[0m \u001b[1;36m0\u001b[0m\u001b[1;33m:\u001b[0m\u001b[1;33m\u001b[0m\u001b[1;33m\u001b[0m\u001b[0m\n\u001b[0;32m   1294\u001b[0m             \u001b[0mself\u001b[0m\u001b[1;33m.\u001b[0m\u001b[0m_updatecounter\u001b[0m \u001b[1;33m+=\u001b[0m \u001b[1;36m1\u001b[0m\u001b[1;33m\u001b[0m\u001b[1;33m\u001b[0m\u001b[0m\n",
      "\u001b[1;31mTerminator\u001b[0m: "
     ]
    }
   ],
   "source": [
    "import turtle\n",
    "turtle.pensize(1)\n",
    "turtle.bgcolor(\"red\")\n",
    "turtle.pencolor(\"white\")\n",
    "for x in range(200):\n",
    "    turtle.fd(x)\n",
    "    turtle.left(91)    "
   ]
  },
  {
   "cell_type": "code",
   "execution_count": 3,
   "metadata": {},
   "outputs": [],
   "source": [
    "import turtle\n",
    "turtle.bgcolor(\"red\")\n",
    "turtle.pencolor(\"white\")\n",
    "turtle.fillcolor(\"white\")\n",
    "turtle.begin_fill()\n",
    "turtle.home()\n",
    "for x in range(5):\n",
    "    turtle.fd(100)\n",
    "    turtle.right(120)\n",
    "    turtle.fd(100)\n",
    "    turtle.left(48)\n",
    "turtle.end_fill()    "
   ]
  },
  {
   "cell_type": "code",
   "execution_count": 6,
   "metadata": {},
   "outputs": [
    {
     "name": "stdout",
     "output_type": "stream",
     "text": [
      "liste: 81-83-85-87-89-91-93-95-97-99-101-103-105-107-109-111-113-115-117-119-\n",
      "tek sayıların toplamı =  2000\n"
     ]
    }
   ],
   "source": [
    "liste=\"\"\n",
    "toplam=0\n",
    "for x in range(80,120):\n",
    "    if (x%2==1):\n",
    "        liste=liste+str(x)+\"-\"\n",
    "        toplam=toplam+x\n",
    "print(\"liste:\",liste)\n",
    "print(\"tek sayıların toplamı = \",toplam)"
   ]
  },
  {
   "cell_type": "code",
   "execution_count": 7,
   "metadata": {},
   "outputs": [
    {
     "name": "stdout",
     "output_type": "stream",
     "text": [
      "liste: 81-83-85-87-89-91-93-95-97-99-101-103-105-107-109-111-113-115-117-119-\n",
      "tek sayıların toplamı =  2000\n"
     ]
    }
   ],
   "source": [
    "liste=\"\"\n",
    "toplam=0\n",
    "for x in range(81,120,2):\n",
    "        liste=liste+str(x)+\"-\"\n",
    "        toplam=toplam+x\n",
    "print(\"liste:\",liste)\n",
    "print(\"tek sayıların toplamı = \",toplam)"
   ]
  },
  {
   "cell_type": "code",
   "execution_count": 8,
   "metadata": {},
   "outputs": [
    {
     "name": "stdout",
     "output_type": "stream",
     "text": [
      "lutfen fak ı giriniz5\n",
      "5 sayısının fakı 120\n"
     ]
    }
   ],
   "source": [
    "fak=1\n",
    "sayi=int(input(\"lutfen fak ı giriniz\"))\n",
    "for x in range(sayi,0,-1):\n",
    "    fak=fak*x\n",
    "print(sayi,\"sayısının fakı\",fak)    "
   ]
  },
  {
   "cell_type": "code",
   "execution_count": 12,
   "metadata": {},
   "outputs": [
    {
     "name": "stdout",
     "output_type": "stream",
     "text": [
      "lutfen adınızı girinizOSMANİYE\n",
      "türkçe karekterler bulundu:  İ\n"
     ]
    }
   ],
   "source": [
    "turkceharfler=\"İĞÜŞÇÖğşüçöı\"\n",
    "isim=input(\"lutfen adınızı giriniz\")\n",
    "for harf in isim:\n",
    "    if harf in turkceharfler:\n",
    "        print(\"türkçe karekterler bulundu: \",harf)"
   ]
  },
  {
   "cell_type": "code",
   "execution_count": 18,
   "metadata": {},
   "outputs": [
    {
     "name": "stdout",
     "output_type": "stream",
     "text": [
      "lütfen belirliyeceğiniz şifreyi girin : abbasyanabas\n",
      "sifre GÜVENLİ DEĞİL \n"
     ]
    }
   ],
   "source": [
    "buyuk=\"ABCÇDEFGĞHIİJKLMNOÖPRSŞTUÜVWXYZ\"\n",
    "kucuk=\"abcdefgğhıijklmnoöprsştuüvwxyz\"\n",
    "rakamlar=\"0123456789\"\n",
    "ozel=\".,*-+?\"\n",
    "bhsay=0\n",
    "khsay=0\n",
    "rasay=0\n",
    "oksay=0\n",
    "sifre=input(\"lütfen belirliyeceğiniz şifreyi girin : \")\n",
    "for harf in sifre:\n",
    "    if harf in buyuk:\n",
    "        bhsay+=1\n",
    "    if harf in kucuk:\n",
    "        khsay+=1\n",
    "    if harf in rakamlar:\n",
    "        rasay+=1\n",
    "    if harf in ozel:\n",
    "        oksay+=1\n",
    "if (bhsay==0 or khsay==0 or rasay==0 or oksay== 0):\n",
    "    print(\"sifre GÜVENLİ DEĞİL \")\n",
    "else:\n",
    "    print(\"bu olur\")\n",
    "        "
   ]
  },
  {
   "cell_type": "code",
   "execution_count": 1,
   "metadata": {},
   "outputs": [],
   "source": [
    "import turtle\n",
    "turtle.shape(\"turtle\")\n",
    "for a in range(10):\n",
    "    for b in range(10):\n",
    "        turtle.penup\n",
    "        turtle.goto(-300+a*50,-100+b*30)\n",
    "        turtle.pendown()\n",
    "        turtle.write(str(a)+\"x\"+str(b)+\"=\" + str(a*b))"
   ]
  },
  {
   "cell_type": "code",
   "execution_count": 19,
   "metadata": {},
   "outputs": [
    {
     "data": {
      "text/plain": [
       "'T'"
      ]
     },
     "execution_count": 19,
     "metadata": {},
     "output_type": "execute_result"
    }
   ],
   "source": [
    "ad=\"BEYTULLAH DEMİRCİ\"\n",
    "ad[3]"
   ]
  },
  {
   "cell_type": "code",
   "execution_count": 38,
   "metadata": {},
   "outputs": [
    {
     "name": "stdout",
     "output_type": "stream",
     "text": [
      "annenizin kızlık soy adının 3 ve 4. harfiLK\n",
      "doğru cevap\n"
     ]
    }
   ],
   "source": [
    "annesoyad=\"YELKENCİ\"\n",
    "soyadparcası=annesoyad[2:4]\n",
    "cevap=input(\"annenizin kızlık soy adının 3 ve 4. harfi\")\n",
    "if cevap==soyadparcası:\n",
    "    print(\"doğru cevap\")\n",
    "else:\n",
    "    print(\"yanlış cevap\")"
   ]
  },
  {
   "cell_type": "code",
   "execution_count": 26,
   "metadata": {},
   "outputs": [
    {
     "data": {
      "text/plain": [
       "'ytu'"
      ]
     },
     "execution_count": 26,
     "metadata": {},
     "output_type": "execute_result"
    }
   ],
   "source": [
    "ad=\"beytullah\"\n",
    "ad[2:5]"
   ]
  },
  {
   "cell_type": "code",
   "execution_count": 27,
   "metadata": {},
   "outputs": [
    {
     "data": {
      "text/plain": [
       "'ABDURRASASF'"
      ]
     },
     "execution_count": 27,
     "metadata": {},
     "output_type": "execute_result"
    }
   ],
   "source": [
    "ozelisim=\"abdurrasasf\"\n",
    "ozelisim.upper()"
   ]
  },
  {
   "cell_type": "code",
   "execution_count": 28,
   "metadata": {},
   "outputs": [
    {
     "data": {
      "text/plain": [
       "False"
      ]
     },
     "execution_count": 28,
     "metadata": {},
     "output_type": "execute_result"
    }
   ],
   "source": [
    "takım=\"çaykurrizespor\"\n",
    "takım.isupper()"
   ]
  },
  {
   "cell_type": "code",
   "execution_count": 29,
   "metadata": {},
   "outputs": [
    {
     "data": {
      "text/plain": [
       "'beytullah demirci'"
      ]
     },
     "execution_count": 29,
     "metadata": {},
     "output_type": "execute_result"
    }
   ],
   "source": [
    "\"beytullah \"+\"demirci\""
   ]
  },
  {
   "cell_type": "code",
   "execution_count": 30,
   "metadata": {},
   "outputs": [
    {
     "data": {
      "text/plain": [
       "['istanbul', 'büyük', 'şehir', 'belediyesi']"
      ]
     },
     "execution_count": 30,
     "metadata": {},
     "output_type": "execute_result"
    }
   ],
   "source": [
    "belde=\"istanbul büyük şehir belediyesi\"\n",
    "belde.split()"
   ]
  },
  {
   "cell_type": "code",
   "execution_count": 35,
   "metadata": {},
   "outputs": [
    {
     "data": {
      "text/plain": [
       "['26', '07', '99']"
      ]
     },
     "execution_count": 35,
     "metadata": {},
     "output_type": "execute_result"
    }
   ],
   "source": [
    "dogumtarihi=\"26/07/99\"\n",
    "dogumtarihi.split(\"/\")\n"
   ]
  },
  {
   "cell_type": "code",
   "execution_count": 36,
   "metadata": {},
   "outputs": [
    {
     "data": {
      "text/plain": [
       "['20', '000', '4180']"
      ]
     },
     "execution_count": 36,
     "metadata": {},
     "output_type": "execute_result"
    }
   ],
   "source": [
    "okulno=\"20-000-4180\"\n",
    "okulno.split(\"-\")"
   ]
  },
  {
   "cell_type": "code",
   "execution_count": 39,
   "metadata": {},
   "outputs": [
    {
     "data": {
      "text/plain": [
       "17"
      ]
     },
     "execution_count": 39,
     "metadata": {},
     "output_type": "execute_result"
    }
   ],
   "source": [
    "ad=\"BEYTULLAH DEMİRCİ\"\n",
    "len(ad)"
   ]
  },
  {
   "cell_type": "code",
   "execution_count": 41,
   "metadata": {},
   "outputs": [
    {
     "data": {
      "text/plain": [
       "7"
      ]
     },
     "execution_count": 41,
     "metadata": {},
     "output_type": "execute_result"
    }
   ],
   "source": [
    "ad=\"BEYTULLAH DEMİRCİ\"\n",
    "ad.index(\"A\")"
   ]
  },
  {
   "cell_type": "code",
   "execution_count": 42,
   "metadata": {},
   "outputs": [
    {
     "data": {
      "text/plain": [
       "1"
      ]
     },
     "execution_count": 42,
     "metadata": {},
     "output_type": "execute_result"
    }
   ],
   "source": [
    "ad=\"BEYTULLAH DEMİRCİ\"\n",
    "ad.count(\"A\")"
   ]
  },
  {
   "cell_type": "code",
   "execution_count": 44,
   "metadata": {},
   "outputs": [
    {
     "data": {
      "text/plain": [
       "False"
      ]
     },
     "execution_count": 44,
     "metadata": {},
     "output_type": "execute_result"
    }
   ],
   "source": [
    "\"beytullah demirci\".isalpha()"
   ]
  },
  {
   "cell_type": "code",
   "execution_count": 45,
   "metadata": {},
   "outputs": [
    {
     "data": {
      "text/plain": [
       "True"
      ]
     },
     "execution_count": 45,
     "metadata": {},
     "output_type": "execute_result"
    }
   ],
   "source": [
    "\"beytullah\".isalpha()"
   ]
  },
  {
   "cell_type": "code",
   "execution_count": 46,
   "metadata": {},
   "outputs": [
    {
     "data": {
      "text/plain": [
       "False"
      ]
     },
     "execution_count": 46,
     "metadata": {},
     "output_type": "execute_result"
    }
   ],
   "source": [
    "\"beytullah9\".isalpha()"
   ]
  },
  {
   "cell_type": "code",
   "execution_count": 47,
   "metadata": {},
   "outputs": [
    {
     "data": {
      "text/plain": [
       "True"
      ]
     },
     "execution_count": 47,
     "metadata": {},
     "output_type": "execute_result"
    }
   ],
   "source": [
    "\"1999\".isnumeric()"
   ]
  },
  {
   "cell_type": "code",
   "execution_count": 48,
   "metadata": {},
   "outputs": [
    {
     "data": {
      "text/plain": [
       "False"
      ]
     },
     "execution_count": 48,
     "metadata": {},
     "output_type": "execute_result"
    }
   ],
   "source": [
    "\"12c\".isnumeric()"
   ]
  },
  {
   "cell_type": "code",
   "execution_count": 49,
   "metadata": {},
   "outputs": [
    {
     "data": {
      "text/plain": [
       "True"
      ]
     },
     "execution_count": 49,
     "metadata": {},
     "output_type": "execute_result"
    }
   ],
   "source": [
    "\"CZ2089\".isalnum()"
   ]
  },
  {
   "cell_type": "code",
   "execution_count": 50,
   "metadata": {},
   "outputs": [
    {
     "data": {
      "text/plain": [
       "True"
      ]
     },
     "execution_count": 50,
     "metadata": {},
     "output_type": "execute_result"
    }
   ],
   "source": [
    "\"CZ\".isalnum()"
   ]
  },
  {
   "cell_type": "code",
   "execution_count": 52,
   "metadata": {},
   "outputs": [
    {
     "data": {
      "text/plain": [
       "True"
      ]
     },
     "execution_count": 52,
     "metadata": {},
     "output_type": "execute_result"
    }
   ],
   "source": [
    "\"2607\".isalnum()"
   ]
  },
  {
   "cell_type": "code",
   "execution_count": 53,
   "metadata": {},
   "outputs": [
    {
     "data": {
      "text/plain": [
       "False"
      ]
     },
     "execution_count": 53,
     "metadata": {},
     "output_type": "execute_result"
    }
   ],
   "source": [
    "\"beytullah demirci\".isalnum()"
   ]
  },
  {
   "cell_type": "code",
   "execution_count": 55,
   "metadata": {},
   "outputs": [
    {
     "name": "stdout",
     "output_type": "stream",
     "text": [
      "sefer no  girin : CZ2098\n",
      "sefer no dogru\n"
     ]
    }
   ],
   "source": [
    "seferno=input(\"sefer no  girin : \")\n",
    "sirket=seferno[:2]\n",
    "sefersayısı=seferno[3:]\n",
    "uzunluk=len(seferno)\n",
    "if(sirket.isalnum() and sefersayısı.isnumeric() and uzunluk==6):\n",
    "    print(\"sefer no dogru\")\n",
    "else:\n",
    "    print(\"sefer no yanlış\")"
   ]
  },
  {
   "cell_type": "code",
   "execution_count": 57,
   "metadata": {},
   "outputs": [
    {
     "data": {
      "text/plain": [
       "True"
      ]
     },
     "execution_count": 57,
     "metadata": {},
     "output_type": "execute_result"
    }
   ],
   "source": [
    "\"BEYTULLAH\".startswith(\"B\")"
   ]
  },
  {
   "cell_type": "code",
   "execution_count": 58,
   "metadata": {},
   "outputs": [
    {
     "data": {
      "text/plain": [
       "False"
      ]
     },
     "execution_count": 58,
     "metadata": {},
     "output_type": "execute_result"
    }
   ],
   "source": [
    "\"BEYTULLAH\".startswith(\"H\")"
   ]
  },
  {
   "cell_type": "code",
   "execution_count": 60,
   "metadata": {},
   "outputs": [
    {
     "data": {
      "text/plain": [
       "True"
      ]
     },
     "execution_count": 60,
     "metadata": {},
     "output_type": "execute_result"
    }
   ],
   "source": [
    "\"BEYTULLAH\".endswith(\"H\")"
   ]
  },
  {
   "cell_type": "code",
   "execution_count": 61,
   "metadata": {},
   "outputs": [
    {
     "data": {
      "text/plain": [
       "False"
      ]
     },
     "execution_count": 61,
     "metadata": {},
     "output_type": "execute_result"
    }
   ],
   "source": [
    "\"BEYTULLAH\".endswith(\"E\")"
   ]
  },
  {
   "cell_type": "code",
   "execution_count": 63,
   "metadata": {},
   "outputs": [
    {
     "name": "stdout",
     "output_type": "stream",
     "text": [
      "lütfen üni web sitesini giriniz : www.ticaret.edu.tr\n",
      "adres doğru\n"
     ]
    }
   ],
   "source": [
    "adres=input(\"lütfen üni web sitesini giriniz : \")\n",
    "noktasayısı=adres.count(\".\")\n",
    "if (adres.startswith(\"www\") and adres.endswith(\"edu.tr\") and noktasayısı>=3):\n",
    "    print(\"adres doğru\")\n",
    "else:\n",
    "    print(\"adres yanlış\")"
   ]
  },
  {
   "cell_type": "code",
   "execution_count": 67,
   "metadata": {},
   "outputs": [
    {
     "name": "stdout",
     "output_type": "stream",
     "text": [
      "tc nizi giriniz28727340147\n",
      "geçersiz tc\n"
     ]
    }
   ],
   "source": [
    "tcno=input(\"tc nizi giriniz\")\n",
    "uzunluk=len(tcno)\n",
    "ilkonrakam=tcno[:10]\n",
    "sonrakam=tcno[10]\n",
    "toplam=0\n",
    "if (uzunluk!=11):\n",
    "    print(\"hatalı giriş 11 rakam olmalıdır\")\n",
    "else:\n",
    "    for rakam in ilkonrakam:\n",
    "        toplam=toplam+int(rakam)\n",
    "    toplam=str(toplam)    \n",
    "    if (toplam[-1]==sonrakam):\n",
    "        print(\"geçerli tc no\")\n",
    "    else:\n",
    "        print(\"geçersiz tc\")"
   ]
  },
  {
   "cell_type": "code",
   "execution_count": 68,
   "metadata": {},
   "outputs": [
    {
     "data": {
      "text/plain": [
       "[]"
      ]
     },
     "execution_count": 68,
     "metadata": {},
     "output_type": "execute_result"
    }
   ],
   "source": [
    "listem=[]\n",
    "listem"
   ]
  },
  {
   "cell_type": "code",
   "execution_count": 69,
   "metadata": {},
   "outputs": [
    {
     "data": {
      "text/plain": [
       "0"
      ]
     },
     "execution_count": 69,
     "metadata": {},
     "output_type": "execute_result"
    }
   ],
   "source": [
    "len(listem)"
   ]
  },
  {
   "cell_type": "code",
   "execution_count": 80,
   "metadata": {},
   "outputs": [
    {
     "data": {
      "text/plain": [
       "list"
      ]
     },
     "execution_count": 80,
     "metadata": {},
     "output_type": "execute_result"
    }
   ],
   "source": [
    "type(listem)"
   ]
  },
  {
   "cell_type": "code",
   "execution_count": 82,
   "metadata": {},
   "outputs": [
    {
     "data": {
      "text/plain": [
       "['Beytullah', 'DEMİRCİ', 21, 'RİZE', 1.83, 'BEKAR']"
      ]
     },
     "execution_count": 82,
     "metadata": {},
     "output_type": "execute_result"
    }
   ],
   "source": [
    "listem=[\"Beytullah\",\"DEMİRCİ\",21,\"RİZE\",1.83,\"BEKAR\"]\n",
    "listem"
   ]
  },
  {
   "cell_type": "code",
   "execution_count": 75,
   "metadata": {},
   "outputs": [
    {
     "data": {
      "text/plain": [
       "'Beytullah'"
      ]
     },
     "execution_count": 75,
     "metadata": {},
     "output_type": "execute_result"
    }
   ],
   "source": [
    "listem[0]\n"
   ]
  },
  {
   "cell_type": "code",
   "execution_count": 74,
   "metadata": {},
   "outputs": [
    {
     "data": {
      "text/plain": [
       "22"
      ]
     },
     "execution_count": 74,
     "metadata": {},
     "output_type": "execute_result"
    }
   ],
   "source": [
    "listem[2]"
   ]
  },
  {
   "cell_type": "code",
   "execution_count": 77,
   "metadata": {},
   "outputs": [
    {
     "data": {
      "text/plain": [
       "'RİZE'"
      ]
     },
     "execution_count": 77,
     "metadata": {},
     "output_type": "execute_result"
    }
   ],
   "source": [
    "listem[3]"
   ]
  },
  {
   "cell_type": "code",
   "execution_count": 78,
   "metadata": {},
   "outputs": [
    {
     "data": {
      "text/plain": [
       "1.83"
      ]
     },
     "execution_count": 78,
     "metadata": {},
     "output_type": "execute_result"
    }
   ],
   "source": [
    "listem[4]"
   ]
  },
  {
   "cell_type": "code",
   "execution_count": 79,
   "metadata": {},
   "outputs": [
    {
     "data": {
      "text/plain": [
       "'BEKAR'"
      ]
     },
     "execution_count": 79,
     "metadata": {},
     "output_type": "execute_result"
    }
   ],
   "source": [
    "listem[5]"
   ]
  },
  {
   "cell_type": "code",
   "execution_count": 83,
   "metadata": {},
   "outputs": [
    {
     "data": {
      "text/plain": [
       "['Beytullah', 'DEMİRCİ', 1.9, 'istanbul', 1.83, 'BEKAR']"
      ]
     },
     "execution_count": 83,
     "metadata": {},
     "output_type": "execute_result"
    }
   ],
   "source": [
    "listem=[\"Beytullah\",\"DEMİRCİ\",21,\"RİZE\",1.83,\"BEKAR\"]\n",
    "listem[2]=1.90\n",
    "listem[3]=\"istanbul\"\n",
    "listem"
   ]
  },
  {
   "cell_type": "code",
   "execution_count": 84,
   "metadata": {},
   "outputs": [
    {
     "data": {
      "text/plain": [
       "True"
      ]
     },
     "execution_count": 84,
     "metadata": {},
     "output_type": "execute_result"
    }
   ],
   "source": [
    "bildiğimdiller=[\"python\",\"c\"]\n",
    "\"c\" in bildiğimdiller"
   ]
  },
  {
   "cell_type": "code",
   "execution_count": 85,
   "metadata": {},
   "outputs": [
    {
     "data": {
      "text/plain": [
       "False"
      ]
     },
     "execution_count": 85,
     "metadata": {},
     "output_type": "execute_result"
    }
   ],
   "source": [
    "bildiğimdiller=[\"python\",\"c\"]\n",
    "\"c++\" in bildiğimdiller"
   ]
  },
  {
   "cell_type": "code",
   "execution_count": 86,
   "metadata": {},
   "outputs": [
    {
     "name": "stdout",
     "output_type": "stream",
     "text": [
      "python\n",
      "c\n"
     ]
    }
   ],
   "source": [
    "bildiğimdiller=[\"python\",\"c\"]\n",
    "for eleman in bildiğimdiller:\n",
    "    print(eleman)"
   ]
  },
  {
   "cell_type": "code",
   "execution_count": 87,
   "metadata": {},
   "outputs": [
    {
     "data": {
      "text/plain": [
       "['elma', 'armut', 'muz']"
      ]
     },
     "execution_count": 87,
     "metadata": {},
     "output_type": "execute_result"
    }
   ],
   "source": [
    "meyveler=[\"elma\",\"armut\"]\n",
    "meyveler.append(\"muz\")\n",
    "meyveler"
   ]
  },
  {
   "cell_type": "code",
   "execution_count": 88,
   "metadata": {},
   "outputs": [
    {
     "data": {
      "text/plain": [
       "['göt ufuk', 'güney', 'mert', 'can']"
      ]
     },
     "execution_count": 88,
     "metadata": {},
     "output_type": "execute_result"
    }
   ],
   "source": [
    "basari=[\"güney\",\"mert\",\"can\"]\n",
    "basari.insert(0,\"göt ufuk\")\n",
    "basari"
   ]
  },
  {
   "cell_type": "code",
   "execution_count": 89,
   "metadata": {},
   "outputs": [
    {
     "data": {
      "text/plain": [
       "['galatasaray', 'trabzonspor', 'fenerbahçe', 'beşiktaş']"
      ]
     },
     "execution_count": 89,
     "metadata": {},
     "output_type": "execute_result"
    }
   ],
   "source": [
    "lig=[\"galatasaray\",\"fenerbahçe\",\"beşiktaş\"]\n",
    "lig.insert(1,\"trabzonspor\")\n",
    "lig"
   ]
  },
  {
   "cell_type": "code",
   "execution_count": 90,
   "metadata": {},
   "outputs": [
    {
     "data": {
      "text/plain": [
       "['elma', 'armut', 'muz']"
      ]
     },
     "execution_count": 90,
     "metadata": {},
     "output_type": "execute_result"
    }
   ],
   "source": [
    "meyveler=[\"elma\",\"armut\",\"muz\",\"kiraz\"]\n",
    "meyveler.pop()\n",
    "meyveler"
   ]
  },
  {
   "cell_type": "code",
   "execution_count": 91,
   "metadata": {},
   "outputs": [
    {
     "data": {
      "text/plain": [
       "['armut', 'muz', 'kiraz', 'kayısı']"
      ]
     },
     "execution_count": 91,
     "metadata": {},
     "output_type": "execute_result"
    }
   ],
   "source": [
    "meyveler=[\"elma\",\"armut\",\"muz\",\"kiraz\",\"kayısı\"]\n",
    "meyveler.remove(\"elma\")\n",
    "meyveler"
   ]
  },
  {
   "cell_type": "code",
   "execution_count": 94,
   "metadata": {},
   "outputs": [
    {
     "data": {
      "text/plain": [
       "4"
      ]
     },
     "execution_count": 94,
     "metadata": {},
     "output_type": "execute_result"
    }
   ],
   "source": [
    "meyveler=[\"elma\",\"armut\",\"muz\",\"kiraz\",\"kayısı\"]\n",
    "meyveler.index(\"kayısı\")\n"
   ]
  },
  {
   "cell_type": "code",
   "execution_count": 95,
   "metadata": {},
   "outputs": [
    {
     "data": {
      "text/plain": [
       "3"
      ]
     },
     "execution_count": 95,
     "metadata": {},
     "output_type": "execute_result"
    }
   ],
   "source": [
    "liste=[\"ali\",\"veli\",\"can\",\"güney\",\"ali\",\"veli\",\"ali\"]\n",
    "liste.count(\"ali\")"
   ]
  },
  {
   "cell_type": "code",
   "execution_count": 96,
   "metadata": {},
   "outputs": [
    {
     "data": {
      "text/plain": [
       "2"
      ]
     },
     "execution_count": 96,
     "metadata": {},
     "output_type": "execute_result"
    }
   ],
   "source": [
    "liste=[\"ali\",\"veli\",\"can\",\"güney\",\"ali\",\"veli\",\"ali\"]\n",
    "liste.count(\"veli\")"
   ]
  },
  {
   "cell_type": "code",
   "execution_count": 97,
   "metadata": {},
   "outputs": [
    {
     "data": {
      "text/plain": [
       "0"
      ]
     },
     "execution_count": 97,
     "metadata": {},
     "output_type": "execute_result"
    }
   ],
   "source": [
    "liste=[\"ali\",\"veli\",\"can\",\"güney\",\"ali\",\"veli\",\"ali\"]\n",
    "liste.count(\"ufuk\")"
   ]
  },
  {
   "cell_type": "code",
   "execution_count": 99,
   "metadata": {},
   "outputs": [
    {
     "data": {
      "text/plain": [
       "[0, 2, 3, 4, 5, 6, 7, 8]"
      ]
     },
     "execution_count": 99,
     "metadata": {},
     "output_type": "execute_result"
    }
   ],
   "source": [
    "numara=[0,5,4,6,8,2,3,7]\n",
    "numara.sort()\n",
    "numara"
   ]
  },
  {
   "cell_type": "code",
   "execution_count": 100,
   "metadata": {},
   "outputs": [
    {
     "data": {
      "text/plain": [
       "['can', 'güney', 'mert', 'orosbuufuk']"
      ]
     },
     "execution_count": 100,
     "metadata": {},
     "output_type": "execute_result"
    }
   ],
   "source": [
    "isimler=[\"güney\",\"mert\",\"can\",\"orosbuufuk\"]\n",
    "isimler.sort()\n",
    "isimler"
   ]
  },
  {
   "cell_type": "code",
   "execution_count": 101,
   "metadata": {},
   "outputs": [
    {
     "data": {
      "text/plain": [
       "[]"
      ]
     },
     "execution_count": 101,
     "metadata": {},
     "output_type": "execute_result"
    }
   ],
   "source": [
    "isimler=[\"güney\",\"mert\",\"can\",\"orosbuufuk\"]\n",
    "isimler.clear()\n",
    "isimler"
   ]
  },
  {
   "cell_type": "code",
   "execution_count": 102,
   "metadata": {},
   "outputs": [
    {
     "data": {
      "text/plain": [
       "[]"
      ]
     },
     "execution_count": 102,
     "metadata": {},
     "output_type": "execute_result"
    }
   ],
   "source": [
    "isimler=[\"güney\",\"mert\",\"can\",\"orosbuufuk\"]\n",
    "isimler=[]\n",
    "isimler"
   ]
  },
  {
   "cell_type": "code",
   "execution_count": 108,
   "metadata": {},
   "outputs": [
    {
     "name": "stdout",
     "output_type": "stream",
     "text": [
      "quiz notunu gir : 100\n",
      "quiz notunu gir : 50\n",
      "quiz notunu gir : 65\n",
      "quiz notunu gir : 45\n",
      "quiz notunu gir : 85\n",
      "quiz notunu gir : 74\n",
      "quiz notunu gir : 35\n",
      "quiz notunu gir : 15\n",
      "quiz notunu gir : 25\n",
      "quiz notunu gir : 87\n",
      "en düşük notunuz :  15\n",
      "en yüksek notunuz :  100\n",
      "quiz ortalamanız :  52\n"
     ]
    }
   ],
   "source": [
    "quiznotlarım=[]\n",
    "sayac=1\n",
    "toplam=0\n",
    "ortalama=0\n",
    "while (sayac<=10):\n",
    "    notunuz=int(input(\"quiz notunu gir : \"))\n",
    "    quiznotlarım.append(notunuz)\n",
    "    toplam+=notunuz\n",
    "    sayac+=1\n",
    "quiznotlarım.sort()\n",
    "print(\"en düşük notunuz : \",quiznotlarım[0])\n",
    "print(\"en yüksek notunuz : \",quiznotlarım[-1])\n",
    "ortalama=int(toplam/sayac)\n",
    "print(\"quiz ortalamanız : \",ortalama)"
   ]
  },
  {
   "cell_type": "code",
   "execution_count": 110,
   "metadata": {},
   "outputs": [],
   "source": [
    "import turtle\n",
    "renkler=[\"red\",\"yellow\",\"blue\",\"green\"]\n",
    "turtle.pensize(1)\n",
    "turtle.home()\n",
    "for x in range(200):\n",
    "    sıradakirenk=x%4\n",
    "    turtle.pencolor(renkler[sıradakirenk])\n",
    "    turtle.fd(x)\n",
    "    turtle.left(91)"
   ]
  },
  {
   "cell_type": "code",
   "execution_count": 1,
   "metadata": {},
   "outputs": [
    {
     "data": {
      "text/plain": [
       "('mustafa', 'kemal', 'atatürk')"
      ]
     },
     "execution_count": 1,
     "metadata": {},
     "output_type": "execute_result"
    }
   ],
   "source": [
    "demet=(\"mustafa\",\"kemal\",\"atatürk\")\n",
    "demet"
   ]
  },
  {
   "cell_type": "code",
   "execution_count": 2,
   "metadata": {},
   "outputs": [
    {
     "data": {
      "text/plain": [
       "tuple"
      ]
     },
     "execution_count": 2,
     "metadata": {},
     "output_type": "execute_result"
    }
   ],
   "source": [
    "type(demet)"
   ]
  },
  {
   "cell_type": "code",
   "execution_count": 3,
   "metadata": {},
   "outputs": [
    {
     "data": {
      "text/plain": [
       "'can'"
      ]
     },
     "execution_count": 3,
     "metadata": {},
     "output_type": "execute_result"
    }
   ],
   "source": [
    "orosbular=(\"can\",\"güney\",\"ufuk\")\n",
    "orosbular[0]"
   ]
  },
  {
   "cell_type": "code",
   "execution_count": 4,
   "metadata": {},
   "outputs": [
    {
     "data": {
      "text/plain": [
       "'ufuk'"
      ]
     },
     "execution_count": 4,
     "metadata": {},
     "output_type": "execute_result"
    }
   ],
   "source": [
    "orosbular=(\"can\",\"güney\",\"ufuk\")\n",
    "orosbular[2]"
   ]
  },
  {
   "cell_type": "code",
   "execution_count": 8,
   "metadata": {},
   "outputs": [
    {
     "name": "stdout",
     "output_type": "stream",
     "text": [
      "lütfen adını gir : abuzer\n",
      "tebrikler  kazandınız\n"
     ]
    }
   ],
   "source": [
    "kazananlar=(\"ali\",\"veli\",\"seli\",\"abuzer\")\n",
    "isim=input(\"lütfen adını gir : \")\n",
    "if (kazananlar.count(isim)==1):\n",
    "    print(\"tebrikler  kazandınız\")\n",
    "else:\n",
    "    print(\"başka zamana hadi\")"
   ]
  },
  {
   "cell_type": "code",
   "execution_count": null,
   "metadata": {},
   "outputs": [],
   "source": [
    "import random\n",
    "simgeler=(\"karo\",\"sinek\",\"kupa\",\"maça\")\n",
    "yüzler=(\"2\",\"3\",\"4\",\"5\",\"6\",\"7\",\"8\",\"9\",\"10\",\"bacak\",\"kız\",\"papaz\",\"as\")\n",
    "simgeniz=random.choice(simgeler)\n",
    "yüzünüz=random.choice(yüzler)\n",
    "sanslikart=simgeniz+\"-\"+yüzünüz\n",
    "print(\"şanslı kart : \",sanslikart)"
   ]
  },
  {
   "cell_type": "code",
   "execution_count": 11,
   "metadata": {},
   "outputs": [
    {
     "name": "stdout",
     "output_type": "stream",
     "text": [
      "taş - kağıt - makas  \n",
      "   çımak için q : makas\n",
      "sizin seçiminiz : makas bilgisayarın seçimi : makas\n",
      "berabere\n",
      "taş - kağıt - makas  \n",
      "   çımak için q : q\n"
     ]
    }
   ],
   "source": [
    "import random\n",
    "secenekler=(\"taş\",\"kağıt\",\"makas\")\n",
    "siz=input(\"taş - kağıt - makas  \\n   çımak için q : \")\n",
    "while siz!=\"q\":\n",
    "    siz=siz.lower()\n",
    "    bilgisayar=random.choice(secenekler)\n",
    "    print(\"sizin seçiminiz : \"+siz+\" bilgisayarın seçimi : \"+bilgisayar)\n",
    "    if(siz==bilgisayar):\n",
    "        print(\"berabere\")\n",
    "    elif siz==\"taş\":\n",
    "        if bilgisayar==\"makas\":\n",
    "            print(\"kazandınız\")\n",
    "        else:\n",
    "            print(\"kaybettiniz\")\n",
    "    elif siz==\"kağıt\":\n",
    "        if bilgisayar==\"taş\":\n",
    "            print(\"kazandınız\")\n",
    "        else:\n",
    "            print(\"kaybettiniz\")\n",
    "    elif siz==\"makas\":\n",
    "        if bilgisayar==\"kağıt\":\n",
    "            print(\"kazandınız\")\n",
    "        else:\n",
    "            print(\"kaybettiniz\")\n",
    "    siz=input(\"taş - kağıt - makas  \\n   çımak için q : \")       "
   ]
  },
  {
   "cell_type": "code",
   "execution_count": 10,
   "metadata": {},
   "outputs": [
    {
     "data": {
      "text/plain": [
       "{}"
      ]
     },
     "execution_count": 10,
     "metadata": {},
     "output_type": "execute_result"
    }
   ],
   "source": [
    "sozluk={}\n",
    "sozluk"
   ]
  },
  {
   "cell_type": "code",
   "execution_count": 1,
   "metadata": {},
   "outputs": [
    {
     "ename": "NameError",
     "evalue": "name 'sozluk' is not defined",
     "output_type": "error",
     "traceback": [
      "\u001b[1;31m---------------------------------------------------------------------------\u001b[0m",
      "\u001b[1;31mNameError\u001b[0m                                 Traceback (most recent call last)",
      "\u001b[1;32m<ipython-input-1-3c71012017b1>\u001b[0m in \u001b[0;36m<module>\u001b[1;34m\u001b[0m\n\u001b[1;32m----> 1\u001b[1;33m \u001b[0mtype\u001b[0m\u001b[1;33m(\u001b[0m\u001b[0msozluk\u001b[0m\u001b[1;33m)\u001b[0m\u001b[1;33m\u001b[0m\u001b[1;33m\u001b[0m\u001b[0m\n\u001b[0m",
      "\u001b[1;31mNameError\u001b[0m: name 'sozluk' is not defined"
     ]
    }
   ],
   "source": [
    "type(sozluk)"
   ]
  },
  {
   "cell_type": "code",
   "execution_count": 2,
   "metadata": {},
   "outputs": [
    {
     "name": "stdout",
     "output_type": "stream",
     "text": [
      "merhaba\n"
     ]
    }
   ],
   "source": [
    "sozluk={\"günaydın\":\"good morning\",\"iyi akşamlar\":\"good evening\",\"iyi geceler\":\"good night\",\"merhaba\":\"hello\"}\n",
    "print(\"merhaba\")\n"
   ]
  },
  {
   "cell_type": "code",
   "execution_count": 6,
   "metadata": {},
   "outputs": [
    {
     "data": {
      "text/plain": [
       "dict"
      ]
     },
     "execution_count": 6,
     "metadata": {},
     "output_type": "execute_result"
    }
   ],
   "source": [
    "type(sozluk)"
   ]
  },
  {
   "cell_type": "code",
   "execution_count": 4,
   "metadata": {},
   "outputs": [
    {
     "data": {
      "text/plain": [
       "{'günaydın': 'good morning',\n",
       " 'iyi akşamlar': 'good evening',\n",
       " 'iyi geceler': 'good night',\n",
       " 'merhaba': 'hello',\n",
       " 'never': 'asla'}"
      ]
     },
     "execution_count": 4,
     "metadata": {},
     "output_type": "execute_result"
    }
   ],
   "source": [
    "sozluk[\"never\"]=\"asla\"\n",
    "sozluk"
   ]
  },
  {
   "cell_type": "code",
   "execution_count": 5,
   "metadata": {},
   "outputs": [
    {
     "name": "stdout",
     "output_type": "stream",
     "text": [
      "lutfen silmek istediğiniz kelmeyi girinmerhaba\n",
      "merhaba adındaki silindi\n"
     ]
    }
   ],
   "source": [
    "silinecek=input(\"lutfen silmek istediğiniz kelmeyi girin\")\n",
    "if silinecek in sozluk.keys():\n",
    "    sozluk.pop(silinecek)\n",
    "    print(silinecek,\"adındaki silindi\")\n",
    "else:\n",
    "    print(silinecek,\"öle bir şey yok\")"
   ]
  },
  {
   "cell_type": "code",
   "execution_count": 7,
   "metadata": {},
   "outputs": [
    {
     "data": {
      "text/plain": [
       "{'günaydın': 'good morning',\n",
       " 'iyi akşamlar': 'good evening',\n",
       " 'iyi geceler': 'good night',\n",
       " 'never': 'asla'}"
      ]
     },
     "execution_count": 7,
     "metadata": {},
     "output_type": "execute_result"
    }
   ],
   "source": [
    "sozluk"
   ]
  },
  {
   "cell_type": "code",
   "execution_count": 8,
   "metadata": {},
   "outputs": [
    {
     "name": "stdout",
     "output_type": "stream",
     "text": [
      "sorgulanacak kelimeyi girin (çıkış = q) :kız kardeş\n",
      "kelime bulunamadı ama ekleyebilirsiniz\n",
      "lutfen siz ekleyinkız kardeş\n",
      "eklendi\n",
      "sorgulanacak kelimeyi girin (çıkış = q) :kız kardeş\n",
      "kız kardeş\n",
      "sorgulanacak kelimeyi girin (çıkış = q) :erkek kardeş\n",
      "kelime bulunamadı ama ekleyebilirsiniz\n",
      "lutfen siz ekleyinerkek kardeş\n",
      "eklendi\n",
      "sorgulanacak kelimeyi girin (çıkış = q) :q\n",
      "thx\n"
     ]
    }
   ],
   "source": [
    "ergensozlugu={}\n",
    "while True:\n",
    "    anahtar=input(\"sorgulanacak kelimeyi girin (çıkış = q) :\")\n",
    "    if anahtar==\"q\":\n",
    "        break;\n",
    "    if anahtar in ergensozlugu.keys():\n",
    "        print(ergensozlugu[anahtar])\n",
    "    else:\n",
    "        print(\"kelime bulunamadı ama ekleyebilirsiniz\")\n",
    "        deger=input(\"lutfen siz ekleyin\")\n",
    "        ergensozlugu[anahtar]=deger\n",
    "        print(\"eklendi\")\n",
    "print(\"thx\")        "
   ]
  },
  {
   "cell_type": "code",
   "execution_count": 1,
   "metadata": {},
   "outputs": [
    {
     "name": "stdout",
     "output_type": "stream",
     "text": [
      "lutfen aradığınız numarayı girin112\n",
      "ACİL\n"
     ]
    }
   ],
   "source": [
    "onemlinolar={\"112\":\"ACİL\",\n",
    "             \"110\":\"İtfaiye\",\n",
    "             \"121\":\"telefon arıza\",\n",
    "             \"155\":\"polis\",\n",
    "             \"156\":\"jandarma\"\n",
    "            }\n",
    "anahtar=input(\"lutfen aradığınız numarayı girin\")\n",
    "deger=onemlinolar.get(anahtar,\"numara bulunamadı\")\n",
    "print(deger)"
   ]
  },
  {
   "cell_type": "code",
   "execution_count": 2,
   "metadata": {},
   "outputs": [
    {
     "name": "stdout",
     "output_type": "stream",
     "text": [
      "Merhaba Dünya\n"
     ]
    }
   ],
   "source": [
    "def ornekfonk():\n",
    "    print(\"Merhaba Dünya\")\n",
    "ornekfonk()    "
   ]
  },
  {
   "cell_type": "code",
   "execution_count": 3,
   "metadata": {},
   "outputs": [],
   "source": [
    "import turtle\n",
    "def kareciz():\n",
    "    turtle.home()\n",
    "    for x in range(4):\n",
    "        turtle.fd(100)\n",
    "        turtle.left(90)\n",
    "kareciz()        "
   ]
  },
  {
   "cell_type": "code",
   "execution_count": 2,
   "metadata": {},
   "outputs": [],
   "source": [
    "import turtle\n",
    "def renklikareciz(renk):\n",
    "    turtle.pencolor(renk)\n",
    "    turtle.home()\n",
    "    for x in range(4):\n",
    "        turtle.fd(100)\n",
    "        turtle.left(90)\n",
    "renklikareciz(\"red\")        "
   ]
  },
  {
   "cell_type": "code",
   "execution_count": 3,
   "metadata": {},
   "outputs": [],
   "source": [
    "import turtle\n",
    "def dortgenciz(en,boy):\n",
    "    turtle.bgcolor(\"red\")\n",
    "    turtle.pencolor(\"white\")\n",
    "    for x in range(2):\n",
    "        turtle.fd(en)\n",
    "        turtle.left(90)\n",
    "        turtle.fd(boy)\n",
    "        turtle.left(90)\n",
    "dortgenciz(50,100)        "
   ]
  },
  {
   "cell_type": "code",
   "execution_count": 1,
   "metadata": {},
   "outputs": [
    {
     "ename": "Terminator",
     "evalue": "",
     "output_type": "error",
     "traceback": [
      "\u001b[1;31m---------------------------------------------------------------------------\u001b[0m",
      "\u001b[1;31mTclError\u001b[0m                                  Traceback (most recent call last)",
      "\u001b[1;32mC:\\anaconda\\lib\\turtle.py\u001b[0m in \u001b[0;36mcircle\u001b[1;34m(radius, extent, steps)\u001b[0m\n",
      "\u001b[1;32mC:\\anaconda\\lib\\turtle.py\u001b[0m in \u001b[0;36mcircle\u001b[1;34m(self, radius, extent, steps)\u001b[0m\n\u001b[0;32m   1990\u001b[0m             \u001b[0mself\u001b[0m\u001b[1;33m.\u001b[0m\u001b[0mspeed\u001b[0m\u001b[1;33m(\u001b[0m\u001b[0mspeed\u001b[0m\u001b[1;33m)\u001b[0m\u001b[1;33m\u001b[0m\u001b[1;33m\u001b[0m\u001b[0m\n\u001b[1;32m-> 1991\u001b[1;33m             \u001b[0mself\u001b[0m\u001b[1;33m.\u001b[0m\u001b[0m_go\u001b[0m\u001b[1;33m(\u001b[0m\u001b[0ml\u001b[0m\u001b[1;33m)\u001b[0m\u001b[1;33m\u001b[0m\u001b[1;33m\u001b[0m\u001b[0m\n\u001b[0m\u001b[0;32m   1992\u001b[0m             \u001b[0mself\u001b[0m\u001b[1;33m.\u001b[0m\u001b[0mspeed\u001b[0m\u001b[1;33m(\u001b[0m\u001b[1;36m0\u001b[0m\u001b[1;33m)\u001b[0m\u001b[1;33m\u001b[0m\u001b[1;33m\u001b[0m\u001b[0m\n",
      "\u001b[1;32mC:\\anaconda\\lib\\turtle.py\u001b[0m in \u001b[0;36m_go\u001b[1;34m(self, distance)\u001b[0m\n\u001b[0;32m   1604\u001b[0m         \u001b[0mende\u001b[0m \u001b[1;33m=\u001b[0m \u001b[0mself\u001b[0m\u001b[1;33m.\u001b[0m\u001b[0m_position\u001b[0m \u001b[1;33m+\u001b[0m \u001b[0mself\u001b[0m\u001b[1;33m.\u001b[0m\u001b[0m_orient\u001b[0m \u001b[1;33m*\u001b[0m \u001b[0mdistance\u001b[0m\u001b[1;33m\u001b[0m\u001b[1;33m\u001b[0m\u001b[0m\n\u001b[1;32m-> 1605\u001b[1;33m         \u001b[0mself\u001b[0m\u001b[1;33m.\u001b[0m\u001b[0m_goto\u001b[0m\u001b[1;33m(\u001b[0m\u001b[0mende\u001b[0m\u001b[1;33m)\u001b[0m\u001b[1;33m\u001b[0m\u001b[1;33m\u001b[0m\u001b[0m\n\u001b[0m\u001b[0;32m   1606\u001b[0m \u001b[1;33m\u001b[0m\u001b[0m\n",
      "\u001b[1;32mC:\\anaconda\\lib\\turtle.py\u001b[0m in \u001b[0;36m_goto\u001b[1;34m(self, end)\u001b[0m\n\u001b[0;32m   3157\u001b[0m                       \u001b[0mself\u001b[0m\u001b[1;33m.\u001b[0m\u001b[0mcurrentLine\u001b[0m\u001b[1;33m[\u001b[0m\u001b[1;33m:\u001b[0m\u001b[1;33m]\u001b[0m\u001b[1;33m,\u001b[0m\u001b[1;33m\u001b[0m\u001b[1;33m\u001b[0m\u001b[0m\n\u001b[1;32m-> 3158\u001b[1;33m                       \u001b[0mscreen\u001b[0m\u001b[1;33m.\u001b[0m\u001b[0m_pointlist\u001b[0m\u001b[1;33m(\u001b[0m\u001b[0mself\u001b[0m\u001b[1;33m.\u001b[0m\u001b[0mcurrentLineItem\u001b[0m\u001b[1;33m)\u001b[0m\u001b[1;33m,\u001b[0m\u001b[1;33m\u001b[0m\u001b[1;33m\u001b[0m\u001b[0m\n\u001b[0m\u001b[0;32m   3159\u001b[0m                       self.items[:])\n",
      "\u001b[1;32mC:\\anaconda\\lib\\turtle.py\u001b[0m in \u001b[0;36m_pointlist\u001b[1;34m(self, item)\u001b[0m\n\u001b[0;32m    754\u001b[0m         >>> \"\"\"\n\u001b[1;32m--> 755\u001b[1;33m         \u001b[0mcl\u001b[0m \u001b[1;33m=\u001b[0m \u001b[0mself\u001b[0m\u001b[1;33m.\u001b[0m\u001b[0mcv\u001b[0m\u001b[1;33m.\u001b[0m\u001b[0mcoords\u001b[0m\u001b[1;33m(\u001b[0m\u001b[0mitem\u001b[0m\u001b[1;33m)\u001b[0m\u001b[1;33m\u001b[0m\u001b[1;33m\u001b[0m\u001b[0m\n\u001b[0m\u001b[0;32m    756\u001b[0m         \u001b[0mpl\u001b[0m \u001b[1;33m=\u001b[0m \u001b[1;33m[\u001b[0m\u001b[1;33m(\u001b[0m\u001b[0mcl\u001b[0m\u001b[1;33m[\u001b[0m\u001b[0mi\u001b[0m\u001b[1;33m]\u001b[0m\u001b[1;33m,\u001b[0m \u001b[1;33m-\u001b[0m\u001b[0mcl\u001b[0m\u001b[1;33m[\u001b[0m\u001b[0mi\u001b[0m\u001b[1;33m+\u001b[0m\u001b[1;36m1\u001b[0m\u001b[1;33m]\u001b[0m\u001b[1;33m)\u001b[0m \u001b[1;32mfor\u001b[0m \u001b[0mi\u001b[0m \u001b[1;32min\u001b[0m \u001b[0mrange\u001b[0m\u001b[1;33m(\u001b[0m\u001b[1;36m0\u001b[0m\u001b[1;33m,\u001b[0m \u001b[0mlen\u001b[0m\u001b[1;33m(\u001b[0m\u001b[0mcl\u001b[0m\u001b[1;33m)\u001b[0m\u001b[1;33m,\u001b[0m \u001b[1;36m2\u001b[0m\u001b[1;33m)\u001b[0m\u001b[1;33m]\u001b[0m\u001b[1;33m\u001b[0m\u001b[1;33m\u001b[0m\u001b[0m\n",
      "\u001b[1;32m<string>\u001b[0m in \u001b[0;36mcoords\u001b[1;34m(self, *args, **kw)\u001b[0m\n",
      "\u001b[1;32mC:\\anaconda\\lib\\tkinter\\__init__.py\u001b[0m in \u001b[0;36mcoords\u001b[1;34m(self, *args)\u001b[0m\n\u001b[0;32m   2760\u001b[0m                            self.tk.splitlist(\n\u001b[1;32m-> 2761\u001b[1;33m                    self.tk.call((self._w, 'coords') + args))]\n\u001b[0m\u001b[0;32m   2762\u001b[0m \u001b[1;33m\u001b[0m\u001b[0m\n",
      "\u001b[1;31mTclError\u001b[0m: invalid command name \".!canvas\"",
      "\nDuring handling of the above exception, another exception occurred:\n",
      "\u001b[1;31mTerminator\u001b[0m                                Traceback (most recent call last)",
      "\u001b[1;32m<ipython-input-1-01e8fe02e927>\u001b[0m in \u001b[0;36m<module>\u001b[1;34m\u001b[0m\n\u001b[0;32m      8\u001b[0m     \u001b[0mturtle\u001b[0m\u001b[1;33m.\u001b[0m\u001b[0mcircle\u001b[0m\u001b[1;33m(\u001b[0m\u001b[1;36m100\u001b[0m\u001b[1;33m)\u001b[0m\u001b[1;33m\u001b[0m\u001b[1;33m\u001b[0m\u001b[0m\n\u001b[0;32m      9\u001b[0m \u001b[0mhalka\u001b[0m\u001b[1;33m(\u001b[0m\u001b[1;33m-\u001b[0m\u001b[1;36m200\u001b[0m\u001b[1;33m,\u001b[0m\u001b[1;36m50\u001b[0m\u001b[1;33m,\u001b[0m\u001b[1;34m\"blue\"\u001b[0m\u001b[1;33m)\u001b[0m\u001b[1;33m\u001b[0m\u001b[1;33m\u001b[0m\u001b[0m\n\u001b[1;32m---> 10\u001b[1;33m \u001b[0mhalka\u001b[0m\u001b[1;33m(\u001b[0m\u001b[1;33m-\u001b[0m\u001b[1;36m50\u001b[0m\u001b[1;33m,\u001b[0m\u001b[1;36m50\u001b[0m\u001b[1;33m,\u001b[0m\u001b[1;34m\"black\"\u001b[0m\u001b[1;33m)\u001b[0m\u001b[1;33m\u001b[0m\u001b[1;33m\u001b[0m\u001b[0m\n\u001b[0m\u001b[0;32m     11\u001b[0m \u001b[0mhalka\u001b[0m\u001b[1;33m(\u001b[0m\u001b[1;36m100\u001b[0m\u001b[1;33m,\u001b[0m\u001b[1;36m50\u001b[0m\u001b[1;33m,\u001b[0m\u001b[1;34m\"red\"\u001b[0m\u001b[1;33m)\u001b[0m\u001b[1;33m\u001b[0m\u001b[1;33m\u001b[0m\u001b[0m\n\u001b[0;32m     12\u001b[0m \u001b[0mhalka\u001b[0m\u001b[1;33m(\u001b[0m\u001b[1;33m-\u001b[0m\u001b[1;36m125\u001b[0m\u001b[1;33m,\u001b[0m\u001b[1;33m-\u001b[0m\u001b[1;36m25\u001b[0m\u001b[1;33m,\u001b[0m\u001b[1;34m\"yellow\"\u001b[0m\u001b[1;33m)\u001b[0m\u001b[1;33m\u001b[0m\u001b[1;33m\u001b[0m\u001b[0m\n",
      "\u001b[1;32m<ipython-input-1-01e8fe02e927>\u001b[0m in \u001b[0;36mhalka\u001b[1;34m(x, y, renk)\u001b[0m\n\u001b[0;32m      6\u001b[0m     \u001b[0mturtle\u001b[0m\u001b[1;33m.\u001b[0m\u001b[0mgoto\u001b[0m\u001b[1;33m(\u001b[0m\u001b[0mx\u001b[0m\u001b[1;33m,\u001b[0m\u001b[0my\u001b[0m\u001b[1;33m)\u001b[0m\u001b[1;33m\u001b[0m\u001b[1;33m\u001b[0m\u001b[0m\n\u001b[0;32m      7\u001b[0m     \u001b[0mturtle\u001b[0m\u001b[1;33m.\u001b[0m\u001b[0mpendown\u001b[0m\u001b[1;33m(\u001b[0m\u001b[1;33m)\u001b[0m\u001b[1;33m\u001b[0m\u001b[1;33m\u001b[0m\u001b[0m\n\u001b[1;32m----> 8\u001b[1;33m     \u001b[0mturtle\u001b[0m\u001b[1;33m.\u001b[0m\u001b[0mcircle\u001b[0m\u001b[1;33m(\u001b[0m\u001b[1;36m100\u001b[0m\u001b[1;33m)\u001b[0m\u001b[1;33m\u001b[0m\u001b[1;33m\u001b[0m\u001b[0m\n\u001b[0m\u001b[0;32m      9\u001b[0m \u001b[0mhalka\u001b[0m\u001b[1;33m(\u001b[0m\u001b[1;33m-\u001b[0m\u001b[1;36m200\u001b[0m\u001b[1;33m,\u001b[0m\u001b[1;36m50\u001b[0m\u001b[1;33m,\u001b[0m\u001b[1;34m\"blue\"\u001b[0m\u001b[1;33m)\u001b[0m\u001b[1;33m\u001b[0m\u001b[1;33m\u001b[0m\u001b[0m\n\u001b[0;32m     10\u001b[0m \u001b[0mhalka\u001b[0m\u001b[1;33m(\u001b[0m\u001b[1;33m-\u001b[0m\u001b[1;36m50\u001b[0m\u001b[1;33m,\u001b[0m\u001b[1;36m50\u001b[0m\u001b[1;33m,\u001b[0m\u001b[1;34m\"black\"\u001b[0m\u001b[1;33m)\u001b[0m\u001b[1;33m\u001b[0m\u001b[1;33m\u001b[0m\u001b[0m\n",
      "\u001b[1;32mC:\\anaconda\\lib\\turtle.py\u001b[0m in \u001b[0;36mcircle\u001b[1;34m(radius, extent, steps)\u001b[0m\n",
      "\u001b[1;31mTerminator\u001b[0m: "
     ]
    }
   ],
   "source": [
    "import turtle\n",
    "def halka(x,y,renk):\n",
    "    turtle.pensize(10)\n",
    "    turtle.pencolor(renk)\n",
    "    turtle.penup()\n",
    "    turtle.goto(x,y)\n",
    "    turtle.pendown()\n",
    "    turtle.circle(100)\n",
    "halka(-200,50,\"blue\")   \n",
    "halka(-50,50,\"black\") \n",
    "halka(100,50,\"red\") \n",
    "halka(-125,-25,\"yellow\") \n",
    "halka(25,-25,\"green\") "
   ]
  },
  {
   "cell_type": "code",
   "execution_count": 2,
   "metadata": {},
   "outputs": [
    {
     "data": {
      "text/plain": [
       "97"
      ]
     },
     "execution_count": 2,
     "metadata": {},
     "output_type": "execute_result"
    }
   ],
   "source": [
    "ord(\"a\")"
   ]
  },
  {
   "cell_type": "code",
   "execution_count": 3,
   "metadata": {},
   "outputs": [
    {
     "data": {
      "text/plain": [
       "'a'"
      ]
     },
     "execution_count": 3,
     "metadata": {},
     "output_type": "execute_result"
    }
   ],
   "source": [
    "chr(97)"
   ]
  },
  {
   "cell_type": "code",
   "execution_count": 4,
   "metadata": {},
   "outputs": [
    {
     "data": {
      "text/plain": [
       "99"
      ]
     },
     "execution_count": 4,
     "metadata": {},
     "output_type": "execute_result"
    }
   ],
   "source": [
    "ord(\"c\")"
   ]
  },
  {
   "cell_type": "code",
   "execution_count": 1,
   "metadata": {},
   "outputs": [
    {
     "name": "stdout",
     "output_type": "stream",
     "text": [
      "sifresiz: merhaba dünya şifreli: ogtjcdc\"fþp{c\n"
     ]
    }
   ],
   "source": [
    "def sifrele(metin):\n",
    "    sifrelimetin=\"\"\n",
    "    for harf in metin:\n",
    "        asciikod=ord(harf)\n",
    "        asciikod=asciikod+2\n",
    "        karakterlkod=chr(asciikod)\n",
    "        sifrelimetin=sifrelimetin+karakterlkod\n",
    "    print(\"sifresiz: \"+metin+\"\"+\" şifreli: \"+sifrelimetin) \n",
    "sifrele(\"merhaba dünya\")    "
   ]
  },
  {
   "cell_type": "code",
   "execution_count": 1,
   "metadata": {},
   "outputs": [],
   "source": [
    "import turtle\n",
    "turtle.pensize(5)\n",
    "turtle.bgcolor(\"black\")\n",
    "turtle.pencolor(\"white\")\n",
    "turtle.turtlesize(2,2,2)\n",
    "def ileri():\n",
    "    turtle.fd(50)\n",
    "def geri():\n",
    "    turtle.backward(50)\n",
    "def sol():\n",
    "    turtle.left(90)\n",
    "def sag():\n",
    "    turtle.right(90)\n",
    "def yesil():\n",
    "    turtle.pencolor(\"green\")\n",
    "def sari():\n",
    "    turtle.pencolor(\"yellow\")    \n",
    "def kırmızı():\n",
    "    turtle.pencolor(\"red\")\n",
    "def mavi():\n",
    "    turtle.pencolor(\"blue\")    \n",
    "turtle.onkeypress(ileri,\"Up\")   \n",
    "turtle.onkeypress(sol,\"Left\")   \n",
    "turtle.onkeypress(sag,\"Right\")   \n",
    "turtle.onkeypress(yesil,\"y\")   \n",
    "turtle.onkeypress(sari,\"s\")   \n",
    "turtle.onkeypress(kırmızı,\"k\")   \n",
    "turtle.onkeypress(mavi,\"m\")   \n",
    "turtle.listen()"
   ]
  },
  {
   "cell_type": "code",
   "execution_count": 2,
   "metadata": {},
   "outputs": [],
   "source": [
    "import turtle\n",
    "import random\n",
    "turtle.bgcolor(\"black\")\n",
    "turtle.pencolor(\"white\")\n",
    "def yildizciz(x,y):\n",
    "    yildizboyut=random.radint(2,10)\n",
    "    turtle.penup\n",
    "    turtle.setpos(x,y)\n",
    "    turlte.pendown()\n",
    "    turtle.fillcolor(\"white\")\n",
    "    turtle.begin_fill()\n",
    "    for x in range(5):\n",
    "        turtle.forward(yildizboyut)\n",
    "        turtle.right(120)\n",
    "        turtle.fd(yidizboyut)\n",
    "        turtle.left(48)\n",
    "    turtle.end_fill()    \n",
    "turtle.onscreenclick(yildizciz)    "
   ]
  },
  {
   "cell_type": "code",
   "execution_count": 1,
   "metadata": {},
   "outputs": [],
   "source": [
    "from turtle import *\n",
    "from random import randint\n",
    "red = Turtle()\n",
    "red.color('red')\n",
    "red.shape('turtle')\n",
    "red.penup()\n",
    "red.goto(-320,100)\n",
    "red.pendown()\n",
    "\n",
    "blue = Turtle()\n",
    "blue.color('blue')\n",
    "blue.shape('turtle')\n",
    "blue.penup()\n",
    "blue.goto(-320,0)\n",
    "blue.pendown()\n",
    "\n",
    "def yarispisti():\n",
    "    for x in range(31):\n",
    "        write(x,align='center')\n",
    "        right(90)\n",
    "        for num in range(8):\n",
    "            penup()\n",
    "            forward(10)\n",
    "            pendown()\n",
    "            fd(10)\n",
    "        penup()\n",
    "        backward(160)\n",
    "        left(90)\n",
    "        forward(20)\n",
    "def kazanan(kim):\n",
    "    goto(-100,200)\n",
    "    kazanan=kim+\" winn!!\"\n",
    "    pencolor(kim)\n",
    "    write(kazanan,align='center',font=('Arial',40,'bold'))\n",
    "speed(0)    \n",
    "penup()\n",
    "goto(-300,140)\n",
    "yarispisti()\n",
    "while (red.xcor()<300 and blue.xcor()<300):\n",
    "    red.forward(randint(1,10))\n",
    "    blue.forward(randint(1,10))\n",
    "if (red.xcor()>=300):\n",
    "    kazanan(\"red\")\n",
    "else:\n",
    "    kazanan(\"blue\")"
   ]
  },
  {
   "cell_type": "code",
   "execution_count": 1,
   "metadata": {},
   "outputs": [
    {
     "name": "stdout",
     "output_type": "stream",
     "text": [
      "lütfen kelimeyi girin : abbas\n",
      "sabba\n"
     ]
    }
   ],
   "source": [
    "def terscevir(kelime):\n",
    "    return kelime[::-1]\n",
    "metin=input(\"lütfen kelimeyi girin : \")\n",
    "print(terscevir(metin))"
   ]
  },
  {
   "cell_type": "code",
   "execution_count": 3,
   "metadata": {},
   "outputs": [
    {
     "name": "stdout",
     "output_type": "stream",
     "text": [
      "şanslı kart :  maça-kız\n"
     ]
    }
   ],
   "source": [
    "import random \n",
    "simgeler=(\"karo\",\"kupa\",\"maça\",\"sinek\")\n",
    "yuzler=(\"2\",\"3\",\"4\",\"5\",\"6\",\"7\",\"8\",\"9\",\"joker\",\"kız\",\"papaz\",\"as\")\n",
    "simgeniz=random.choice(simgeler)\n",
    "yüzleriniz=random.choice(yuzler)\n",
    "sanslıkart=simgeniz+\"-\"+yüzleriniz\n",
    "print(\"şanslı kart : \",sanslıkart)"
   ]
  },
  {
   "cell_type": "code",
   "execution_count": 4,
   "metadata": {},
   "outputs": [
    {
     "name": "stdout",
     "output_type": "stream",
     "text": [
      "windows\n"
     ]
    }
   ],
   "source": [
    "from os import *\n",
    "\n",
    "if(name==\"nt\"):\n",
    "    print(\"windows\")\n",
    "else:\n",
    "    print(\"diğer\")"
   ]
  },
  {
   "cell_type": "code",
   "execution_count": 5,
   "metadata": {},
   "outputs": [
    {
     "name": "stdout",
     "output_type": "stream",
     "text": [
      "windows\n"
     ]
    }
   ],
   "source": [
    "import os\n",
    "if(os.name==\"nt\"):\n",
    "    print(\"windows\")\n",
    "else:\n",
    "    print(\"diğer\")"
   ]
  },
  {
   "cell_type": "code",
   "execution_count": 9,
   "metadata": {},
   "outputs": [
    {
     "name": "stdout",
     "output_type": "stream",
     "text": [
      "2020-09-04 14:01:24.154343\n"
     ]
    }
   ],
   "source": [
    "from datetime import datetime\n",
    "simdi=datetime.now()\n",
    "print(simdi)"
   ]
  },
  {
   "cell_type": "code",
   "execution_count": 10,
   "metadata": {},
   "outputs": [
    {
     "name": "stdout",
     "output_type": "stream",
     "text": [
      "YIL :  2020\n",
      "AY :  9\n",
      "GÜN :  4\n",
      "SAAT :  14\n",
      "DAKİKA :  3\n",
      "SANİYE :  14\n"
     ]
    }
   ],
   "source": [
    "from datetime import datetime\n",
    "simdi=datetime.now()\n",
    "print(\"YIL : \",simdi.year)\n",
    "print(\"AY : \",simdi.month)\n",
    "print(\"GÜN : \",simdi.day)\n",
    "print(\"SAAT : \",simdi.hour)\n",
    "print(\"DAKİKA : \",simdi.minute)\n",
    "print(\"SANİYE : \",simdi.second)"
   ]
  },
  {
   "cell_type": "code",
   "execution_count": 11,
   "metadata": {},
   "outputs": [
    {
     "name": "stdout",
     "output_type": "stream",
     "text": [
      "     April 2018\n",
      "Mo Tu We Th Fr Sa Su\n",
      "                   1\n",
      " 2  3  4  5  6  7  8\n",
      " 9 10 11 12 13 14 15\n",
      "16 17 18 19 20 21 22\n",
      "23 24 25 26 27 28 29\n",
      "30\n"
     ]
    }
   ],
   "source": [
    "import calendar\n",
    "c = calendar.TextCalendar(calendar.MONDAY)\n",
    "c.prmonth(2018,4)"
   ]
  },
  {
   "cell_type": "code",
   "execution_count": 15,
   "metadata": {},
   "outputs": [
    {
     "name": "stdout",
     "output_type": "stream",
     "text": [
      "hangi programı açmak istiyorsun = notepad.exe\n"
     ]
    },
    {
     "data": {
      "text/plain": [
       "0"
      ]
     },
     "execution_count": 15,
     "metadata": {},
     "output_type": "execute_result"
    }
   ],
   "source": [
    "import subprocess\n",
    "program=input(\"hangi programı açmak istiyorsun = \")\n",
    "subprocess.call(program)"
   ]
  },
  {
   "cell_type": "code",
   "execution_count": 16,
   "metadata": {},
   "outputs": [
    {
     "data": {
      "text/plain": [
       "True"
      ]
     },
     "execution_count": 16,
     "metadata": {},
     "output_type": "execute_result"
    }
   ],
   "source": [
    "import webbrowser\n",
    "webbrowser.open(\"www.youtube.com\")"
   ]
  },
  {
   "cell_type": "code",
   "execution_count": null,
   "metadata": {},
   "outputs": [],
   "source": []
  }
 ],
 "metadata": {
  "kernelspec": {
   "display_name": "Python 3",
   "language": "python",
   "name": "python3"
  },
  "language_info": {
   "codemirror_mode": {
    "name": "ipython",
    "version": 3
   },
   "file_extension": ".py",
   "mimetype": "text/x-python",
   "name": "python",
   "nbconvert_exporter": "python",
   "pygments_lexer": "ipython3",
   "version": "3.8.3"
  }
 },
 "nbformat": 4,
 "nbformat_minor": 4
}
